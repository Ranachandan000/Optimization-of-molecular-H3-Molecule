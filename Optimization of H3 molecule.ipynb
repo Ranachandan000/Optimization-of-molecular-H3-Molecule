{
 "cells": [
  {
   "cell_type": "code",
   "execution_count": 1,
   "id": "b71e80a1",
   "metadata": {},
   "outputs": [],
   "source": [
    "from pennylane import numpy as np\n",
    "from functools import partial\n",
    "import matplotlib.pyplot as plt\n",
    "%matplotlib inline"
   ]
  },
  {
   "cell_type": "markdown",
   "id": "ec167ccf",
   "metadata": {},
   "source": [
    "### Setting the coordinates of H3 molecule"
   ]
  },
  {
   "cell_type": "code",
   "execution_count": 2,
   "id": "ba71ae6c",
   "metadata": {},
   "outputs": [],
   "source": [
    "symbols = [\"H\", \"H\", \"H\"]\n",
    "x = np.array([0.028, 0.054, 0.0, 0.986, 1.610, 0.0, 1.855, 0.002, 0.0], requires_grad=True)     #coordinates intialized"
   ]
  },
  {
   "cell_type": "markdown",
   "id": "150dfe69",
   "metadata": {},
   "source": [
    "### Building the parametrized electronic Hamiltonian\n",
    "Using Jordan-Wigner transformation"
   ]
  },
  {
   "cell_type": "markdown",
   "id": "38997e4f",
   "metadata": {},
   "source": [
    "* We define the function H(x) to build the parametrized Hamiltonian of the trihydrogen cation using the molecular_hamiltonian() function."
   ]
  },
  {
   "cell_type": "code",
   "execution_count": 3,
   "id": "24b88559",
   "metadata": {},
   "outputs": [],
   "source": [
    "def H(x):\n",
    "    return qml.qchem.molecular_hamiltonian(symbols, x, charge=1)[0]"
   ]
  },
  {
   "cell_type": "markdown",
   "id": "b04516e1",
   "metadata": {},
   "source": [
    "### The variational quantum circuit"
   ]
  },
  {
   "cell_type": "markdown",
   "id": "a0232277",
   "metadata": {},
   "source": [
    "#### Number of Qubits we need \n",
    "\n",
    "The state of electrons in a molecule can then be described by specifying how the orbitals are occupied. The Jordan-Wigner representation provides a convenient way to do this: we associate a qubit with each spin orbital and use its states to represent occupied |1⟩ or unoccupied |0⟩ spin orbitals.\n"
   ]
  },
  {
   "cell_type": "code",
   "execution_count": 5,
   "id": "a21ad9bd",
   "metadata": {},
   "outputs": [],
   "source": [
    "import pennylane as qml"
   ]
  },
  {
   "cell_type": "code",
   "execution_count": 6,
   "id": "86b9234c",
   "metadata": {},
   "outputs": [
    {
     "name": "stdout",
     "output_type": "stream",
     "text": [
      "[1 1 0 0 0 0]\n"
     ]
    }
   ],
   "source": [
    "hf = qml.qchem.hf_state(electrons=2, orbitals=6)\n",
    "print(hf)                                               # i.e. 6 qubits needed : 6 orbitals and two occupied"
   ]
  },
  {
   "cell_type": "markdown",
   "id": "2a40692a",
   "metadata": {},
   "source": [
    "* Building the paramatrized circuit\n",
    "  * we use double excitations in the process. Double-qubit rotations involve operations that act on two qubits simultaneously, typically creating entanglement between them. \n",
    "  * now (theta) becomes the only optimizing parameter"
   ]
  },
  {
   "cell_type": "code",
   "execution_count": 7,
   "id": "be4dffa2",
   "metadata": {},
   "outputs": [],
   "source": [
    "num_wires = 6\n",
    "dev = qml.device(\"lightning.qubit\", wires=num_wires)\n",
    "\n",
    "\n",
    "@qml.qnode(dev, interface=\"autograd\")\n",
    "def circuit(params, obs, wires):\n",
    "    qml.BasisState(hf, wires=wires)\n",
    "    qml.DoubleExcitation(params[0], wires=[0, 1, 2, 3])                        # Double rotation applied  \n",
    "    qml.DoubleExcitation(params[1], wires=[0, 1, 4, 5])                        # # Double rotation applied  \n",
    "\n",
    "    return qml.expval(obs)"
   ]
  },
  {
   "cell_type": "markdown",
   "id": "ca008763",
   "metadata": {},
   "source": [
    "### The cost function and the nuclear gradients"
   ]
  },
  {
   "cell_type": "markdown",
   "id": "2be08c71",
   "metadata": {},
   "source": [
    "Now we define the cost function  g\n",
    "(\n",
    "θ\n",
    ",\n",
    "x\n",
    ")\n",
    "=\n",
    "⟨\n",
    "Ψ\n",
    "(\n",
    "θ\n",
    ")\n",
    "|\n",
    "H\n",
    "(\n",
    "x\n",
    ")\n",
    "|\n",
    "Ψ\n",
    "(\n",
    "θ\n",
    ")\n",
    "⟩\n",
    " . It evaluates the expectation value of the parametrized Hamiltonian  H\n",
    "(\n",
    "x\n",
    ")\n",
    "  in the trial state  |\n",
    "Ψ\n",
    "(\n",
    "θ\n",
    ")\n",
    "⟩\n",
    " ."
   ]
  },
  {
   "cell_type": "code",
   "execution_count": 8,
   "id": "17234f7d",
   "metadata": {},
   "outputs": [],
   "source": [
    "def cost(params, x):\n",
    "    hamiltonian = H(x)\n",
    "    return circuit(params, obs=hamiltonian, wires=range(num_wires))    # using the cicuit function and replacing the observable as the hamiltonian of the system"
   ]
  },
  {
   "cell_type": "markdown",
   "id": "d7dacc13",
   "metadata": {},
   "source": [
    "### Gradient"
   ]
  },
  {
   "cell_type": "code",
   "execution_count": 9,
   "id": "c1a1a82a",
   "metadata": {},
   "outputs": [],
   "source": [
    "def finite_diff(f, x, delta=0.01):\n",
    "    \"\"\"Compute the central-difference finite difference of a function\"\"\"\n",
    "    gradient = []\n",
    "\n",
    "    for i in range(len(x)):\n",
    "        shift = np.zeros_like(x)\n",
    "        shift[i] += 0.5 * delta\n",
    "        res = (f(x + shift) - f(x - shift)) * delta**-1\n",
    "        gradient.append(res)\n",
    "\n",
    "    return gradient\n",
    "\n",
    "\n",
    "def grad_x(params, x):\n",
    "    grad_h = finite_diff(H, x)\n",
    "    grad = [circuit(params, obs=obs, wires=range(num_wires)) for obs in grad_h]\n",
    "    return np.array(grad)"
   ]
  },
  {
   "cell_type": "markdown",
   "id": "b604aecd",
   "metadata": {},
   "source": [
    "### Optimization of the molecular geometry"
   ]
  },
  {
   "cell_type": "markdown",
   "id": "977ef989",
   "metadata": {},
   "source": [
    "The goal of the variational algorithm is to find the global minimum of the cost function  g\n",
    "(\n",
    "θ\n",
    ",\n",
    "x\n",
    ")\n",
    "=\n",
    "⟨\n",
    "Ψ\n",
    "(\n",
    "θ\n",
    ")\n",
    "|\n",
    "H\n",
    "(\n",
    "x\n",
    ")\n",
    "|\n",
    "Ψ(θ\n",
    ")\n",
    "⟩ with respect to the circuit parameters θ and the nuclear coordinates x entering the electronic Hamiltonian of the molecule."
   ]
  },
  {
   "cell_type": "code",
   "execution_count": 13,
   "id": "2411ab85",
   "metadata": {},
   "outputs": [],
   "source": [
    "opt_theta = qml.GradientDescentOptimizer(stepsize=0.4)          # cicuit paramter theta\n",
    "opt_x = qml.GradientDescentOptimizer(stepsize=0.8)              # nuclear coordinate x"
   ]
  },
  {
   "cell_type": "code",
   "execution_count": 14,
   "id": "093b8283",
   "metadata": {},
   "outputs": [],
   "source": [
    "theta = np.array([0.0, 0.0], requires_grad=True)"
   ]
  },
  {
   "cell_type": "code",
   "execution_count": 15,
   "id": "110b0157",
   "metadata": {},
   "outputs": [
    {
     "name": "stdout",
     "output_type": "stream",
     "text": [
      "Step = 0,  E = -1.26094338 Ha,  bond length = 0.96762 A\n",
      "Step = 2,  E = -1.27115944 Ha,  bond length = 0.97155 A\n",
      "Step = 4,  E = -1.27360653 Ha,  bond length = 0.97619 A\n",
      "Step = 6,  E = -1.27421831 Ha,  bond length = 0.97982 A\n",
      "Step = 8,  E = -1.27437809 Ha,  bond length = 0.98223 A\n",
      "Step = 10,  E = -1.27442118 Ha,  bond length = 0.98371 A\n",
      "Step = 12,  E = -1.27443305 Ha,  bond length = 0.98457 A\n",
      "Step = 14,  E = -1.27443636 Ha,  bond length = 0.98506 A\n",
      "Step = 16,  E = -1.27443729 Ha,  bond length = 0.98533 A\n",
      "Step = 18,  E = -1.27443756 Ha,  bond length = 0.98548 A\n",
      "Step = 20,  E = -1.27443763 Ha,  bond length = 0.98556 A\n",
      "Step = 22,  E = -1.27443765 Ha,  bond length = 0.98561 A\n",
      "Step = 24,  E = -1.27443766 Ha,  bond length = 0.98563 A\n",
      "\n",
      "Final value of the ground-state energy = -1.27443766 Ha\n",
      "\n",
      "Ground-state equilibrium geometry\n",
      "symbol    x        y        z\n",
      "  H    0.0102   0.0442   0.0000\n",
      "  H    0.9867   1.6303   0.0000\n",
      "  H    1.8720   -0.0085   0.0000\n"
     ]
    }
   ],
   "source": [
    "energy = []\n",
    "bond_length = []\n",
    "\n",
    "bohr_angs = 0.529177210903                              # to convert from Bohrs to Angstroms\n",
    "\n",
    "for n in range(100):\n",
    "    \n",
    "    theta.requires_grad = True                       # Optimizing theta\n",
    "    x.requires_grad = False\n",
    "    theta, _ = opt_theta.step(cost, theta, x)\n",
    "\n",
    "    x.requires_grad = True                               # Optimizing nuclear coordinates\n",
    "    theta.requires_grad = False\n",
    "    _, x = opt_x.step(cost, theta, x, grad_fn=grad_x)\n",
    "\n",
    "    energy.append(cost(theta, x))\n",
    "    bond_length.append(np.linalg.norm(x[0:3] - x[3:6]) * bohr_angs)\n",
    "\n",
    "    if n % 2 == 0:\n",
    "        print(f\"Step = {n},  E = {energy[-1]:.8f} Ha,  bond length = {bond_length[-1]:.5f} A\")\n",
    "\n",
    "    if np.max(grad_x(theta, x)) <= 1e-05:                               # Checking maximum component of the nuclear gradient\n",
    "        break\n",
    "\n",
    "print(\"\\n\" f\"Final value of the ground-state energy = {energy[-1]:.8f} Ha\")\n",
    "print(\"\\n\" \"Ground-state equilibrium geometry\")\n",
    "print(\"%s %4s %8s %8s\" % (\"symbol\", \"x\", \"y\", \"z\"))\n",
    "for i, atom in enumerate(symbols):\n",
    "    print(f\"  {atom}    {x[3 * i]:.4f}   {x[3 * i + 1]:.4f}   {x[3 * i + 2]:.4f}\")"
   ]
  },
  {
   "cell_type": "code",
   "execution_count": 19,
   "id": "62cddd6c",
   "metadata": {
    "scrolled": false
   },
   "outputs": [
    {
     "data": {
      "image/png": "[encoded data removed]",
      "text/plain": [
       "<Figure size 1200x500 with 2 Axes>"
      ]
     },
     "metadata": {},
     "output_type": "display_data"
    }
   ],
   "source": [
    "fig = plt.figure()\n",
    "fig.set_figheight(5)\n",
    "fig.set_figwidth(12)\n",
    "\n",
    "# energy plot on column 1\n",
    "E_fci = -1.27443765658\n",
    "E_vqe = np.array(energy)\n",
    "ax1 = fig.add_subplot(121)\n",
    "ax1.plot(range(n + 1), E_vqe - E_fci, \"go-\", ls=\"dashed\")\n",
    "ax1.plot(range(n + 1), np.full(n + 1, 0.001), color=\"red\")\n",
    "ax1.set_xlabel(\"Optimization step\", fontsize=13)\n",
    "ax1.set_ylabel(\"$E_{VQE} - E_{FCI}$ (Hartree)\", fontsize=13)\n",
    "ax1.text(5, 0.0013, r\"Chemical accuracy\", fontsize=13)\n",
    "plt.yscale(\"log\")\n",
    "plt.xticks(fontsize=12)\n",
    "plt.yticks(fontsize=12)\n",
    "\n",
    "# bond length plot on column 2\n",
    "d_fci = 0.986\n",
    "ax2 = fig.add_subplot(122)\n",
    "ax2.plot(range(n + 1), bond_length, \"go-\", ls=\"dashed\")\n",
    "ax2.plot(range(n + 1), np.full(n + 1, d_fci), color=\"red\")\n",
    "ax2.set_ylim([0.965, 0.99])\n",
    "ax2.set_xlabel(\"Optimization step\", fontsize=13)\n",
    "ax2.set_ylabel(\"bond length ($\\AA$)\", fontsize=13)\n",
    "ax2.text(5, 0.9865, r\"Equilibrium bond length\", fontsize=13)\n",
    "plt.xticks(fontsize=12)\n",
    "plt.yticks(fontsize=12)\n",
    "\n",
    "plt.subplots_adjust(wspace=0.3)\n",
    "plt.show()"
   ]
  },
  {
   "cell_type": "markdown",
   "id": "90c90ba8",
   "metadata": {},
   "source": [
    "* We finally find value of the ground-state energy = -1.27443766 Ha"
   ]
  },
  {
   "cell_type": "code",
   "execution_count": null,
   "id": "ade456c5",
   "metadata": {},
   "outputs": [],
   "source": []
  }
 ],
 "metadata": {
  "kernelspec": {
   "display_name": "Python 3 (ipykernel)",
   "language": "python",
   "name": "python3"
  },
  "language_info": {
   "codemirror_mode": {
    "name": "ipython",
    "version": 3
   },
   "file_extension": ".py",
   "mimetype": "text/x-python",
   "name": "python",
   "nbconvert_exporter": "python",
   "pygments_lexer": "ipython3",
   "version": "3.11.5"
  }
 },
 "nbformat": 4,
 "nbformat_minor": 5
}
